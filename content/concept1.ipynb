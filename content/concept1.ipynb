{
 "cells": [
  {
   "cell_type": "markdown",
   "metadata": {},
   "source": [
    "# The Magics of Divide & Conquer"
   ]
  },
  {
   "cell_type": "markdown",
   "metadata": {},
   "source": [
    "Hello there! After watching the video, you will see that binary search is quick. But why is it an important concept in computer science? Simply press enter to run through the following cells to get the idea! Relax! You don't need to understand the coding part at all. Hint: There will be running time output."
   ]
  },
  {
   "cell_type": "markdown",
   "metadata": {},
   "source": [
    "import numpy as np\n",
    "import pandas as pd"
   ]
  },
  {
   "cell_type": "code",
   "execution_count": 56,
   "metadata": {},
   "outputs": [],
   "source": [
    "'''\n",
    "Here is the naive solution without divide and conquer\n",
    "'''\n",
    "def brute_force_sort(arr):\n",
    "    sorted_arr = []\n",
    "    for i, element_i in enumerate(arr):\n",
    "        \n",
    "        if not sorted_arr:\n",
    "            # if sorted array is empty\n",
    "            sorted_arr.append(element_i)\n",
    "\n",
    "        else:\n",
    "            inserted = False\n",
    "            for j, element_j in enumerate(sorted_arr):\n",
    "                # print(element_j)\n",
    "                if element_i < element_j:\n",
    "                    # if element i > element j, insert the element i in front of the element j.\n",
    "                    sorted_arr.insert(j, element_i)\n",
    "                    inserted = True\n",
    "                    break\n",
    "            if not inserted:\n",
    "                sorted_arr.append(element_i)\n",
    "                \n",
    "    return sorted_arr"
   ]
  },
  {
   "cell_type": "code",
   "execution_count": 57,
   "metadata": {},
   "outputs": [],
   "source": [
    "'''\n",
    "Here comes our divide and conquer solution\n",
    "'''\n",
    "\n",
    "def sortArray(nums):      \n",
    "    # Length 1 is always sorted\n",
    "    if len(nums) == 1:\n",
    "        return nums\n",
    "    \n",
    "    # Split array into two subarrays\n",
    "    half = len(nums) // 2\n",
    "    left = nums[:half]\n",
    "    right = nums[half:]\n",
    "    \n",
    "    # Recursively break the arrays - O(log n)\n",
    "    left = sortArray(left)\n",
    "    right = sortArray(right)\n",
    "    \n",
    "    # O(n) sort\n",
    "    return sort(left, right)\n",
    "\n",
    "# Merge sort helper method\n",
    "def sort(a, b):\n",
    "    out = []\n",
    "    while a and b:\n",
    "        if a[0] <= b[0]:\n",
    "            out.append(a.pop(0))\n",
    "        else:\n",
    "            out.append(b.pop(0))\n",
    "    if a:\n",
    "        out += a\n",
    "    else:\n",
    "        out += b\n",
    "    return out"
   ]
  },
  {
   "cell_type": "code",
   "execution_count": 58,
   "metadata": {},
   "outputs": [],
   "source": [
    "small_array = [1,5,6,23,432,54,1,1,1]\n",
    "large_array = list(np.random.rand(3000)) # 3000 random numbers\n",
    "super_large_array = list(np.random.rand(30000)) # 30000 random numbers"
   ]
  },
  {
   "cell_type": "code",
   "execution_count": 59,
   "metadata": {},
   "outputs": [
    {
     "name": "stdout",
     "output_type": "stream",
     "text": [
      "CPU times: user 12 µs, sys: 1e+03 ns, total: 13 µs\n",
      "Wall time: 16 µs\n"
     ]
    },
    {
     "data": {
      "text/plain": [
       "[1, 1, 1, 1, 5, 6, 23, 54, 432]"
      ]
     },
     "execution_count": 59,
     "metadata": {},
     "output_type": "execute_result"
    }
   ],
   "source": [
    "%%time\n",
    "brute_force_sort(small_array)"
   ]
  },
  {
   "cell_type": "code",
   "execution_count": 60,
   "metadata": {},
   "outputs": [
    {
     "name": "stdout",
     "output_type": "stream",
     "text": [
      "CPU times: user 23 µs, sys: 1 µs, total: 24 µs\n",
      "Wall time: 26.9 µs\n"
     ]
    },
    {
     "data": {
      "text/plain": [
       "[1, 1, 1, 1, 5, 6, 23, 54, 432]"
      ]
     },
     "execution_count": 60,
     "metadata": {},
     "output_type": "execute_result"
    }
   ],
   "source": [
    "%%time\n",
    "sortArray(small_array)"
   ]
  },
  {
   "cell_type": "code",
   "execution_count": 61,
   "metadata": {},
   "outputs": [
    {
     "name": "stdout",
     "output_type": "stream",
     "text": [
      "CPU times: user 210 ms, sys: 5.29 ms, total: 215 ms\n",
      "Wall time: 247 ms\n"
     ]
    }
   ],
   "source": [
    "%%time\n",
    "res = brute_force_sort(large_array)"
   ]
  },
  {
   "cell_type": "code",
   "execution_count": 62,
   "metadata": {},
   "outputs": [
    {
     "name": "stdout",
     "output_type": "stream",
     "text": [
      "CPU times: user 14 ms, sys: 1.13 ms, total: 15.1 ms\n",
      "Wall time: 17.4 ms\n"
     ]
    }
   ],
   "source": [
    "%%time\n",
    "res = sortArray(large_array)"
   ]
  },
  {
   "cell_type": "code",
   "execution_count": 63,
   "metadata": {},
   "outputs": [
    {
     "name": "stdout",
     "output_type": "stream",
     "text": [
      "CPU times: user 24.7 s, sys: 268 ms, total: 25 s\n",
      "Wall time: 25.5 s\n"
     ]
    }
   ],
   "source": [
    "%%time\n",
    "res = brute_force_sort(super_large_array)"
   ]
  },
  {
   "cell_type": "code",
   "execution_count": 64,
   "metadata": {},
   "outputs": [
    {
     "name": "stdout",
     "output_type": "stream",
     "text": [
      "CPU times: user 223 ms, sys: 4.82 ms, total: 228 ms\n",
      "Wall time: 231 ms\n"
     ]
    }
   ],
   "source": [
    "%%time\n",
    "res = sortArray(super_large_array)"
   ]
  },
  {
   "cell_type": "markdown",
   "metadata": {},
   "source": [
    "Looking at the runtime, what is the difference you observe?"
   ]
  },
  {
   "cell_type": "code",
   "execution_count": null,
   "metadata": {},
   "outputs": [],
   "source": []
  }
 ],
 "metadata": {
  "kernelspec": {
   "display_name": "Python 3.9.7 ('base')",
   "language": "python",
   "name": "python3"
  },
  "language_info": {
   "codemirror_mode": {
    "name": "ipython",
    "version": 3
   },
   "file_extension": ".py",
   "mimetype": "text/x-python",
   "name": "python",
   "nbconvert_exporter": "python",
   "pygments_lexer": "ipython3",
   "version": "3.9.7"
  },
  "orig_nbformat": 4,
  "vscode": {
   "interpreter": {
    "hash": "40d3a090f54c6569ab1632332b64b2c03c39dcf918b08424e98f38b5ae0af88f"
   }
  }
 },
 "nbformat": 4,
 "nbformat_minor": 2
}
