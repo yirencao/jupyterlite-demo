{
  "metadata": {
    "kernelspec": {
      "name": "python",
      "display_name": "Python (Pyodide)",
      "language": "python"
    },
    "language_info": {
      "codemirror_mode": {
        "name": "python",
        "version": 3
      },
      "file_extension": ".py",
      "mimetype": "text/x-python",
      "name": "python",
      "nbconvert_exporter": "python",
      "pygments_lexer": "ipython3",
      "version": "3.8"
    },
    "vscode": {
      "interpreter": {
        "hash": "40d3a090f54c6569ab1632332b64b2c03c39dcf918b08424e98f38b5ae0af88f"
      }
    }
  },
  "nbformat_minor": 4,
  "nbformat": 4,
  "cells": [
    {
      "cell_type": "markdown",
      "source": "# The Magics of Divide & Conquer",
      "metadata": {}
    },
    {
      "cell_type": "markdown",
      "source": "Hello there! After watching the video, you will see that divide and conquer is helpful. But why is it an important concept in computer science? \n\nSimply click `Run >> Run All Cells` to run through the following cells to get the idea! Relax! You don't need to understand the coding part at all. Hint: There will be running time output.",
      "metadata": {}
    },
    {
      "cell_type": "markdown",
      "source": "<img src=\"run_button.png\" alt=\"drawing\" width=\"200\"/>\n\n",
      "metadata": {}
    },
    {
      "cell_type": "code",
      "source": "import numpy as np\nimport pandas as pd\n\n'''\nYou only need to look at the output and no needs to understand the coding part.\n\nHere is the naive solution without divide and conquer\n'''\ndef brute_force_sort(arr):\n    sorted_arr = []\n    for i, element_i in enumerate(arr):\n        \n        if not sorted_arr:\n            # if sorted array is empty\n            sorted_arr.append(element_i)\n\n        else:\n            inserted = False\n            for j, element_j in enumerate(sorted_arr):\n                # print(element_j)\n                if element_i < element_j:\n                    # if element i > element j, insert the element i in front of the element j.\n                    sorted_arr.insert(j, element_i)\n                    inserted = True\n                    break\n            if not inserted:\n                sorted_arr.append(element_i)\n                \n    return sorted_arr\n\n'''\nHere comes our divide and conquer solution\n'''\n\ndef sortArray(nums):      \n    # Length 1 is always sorted\n    if len(nums) == 1:\n        return nums\n    \n    # Split array into two subarrays\n    half = len(nums) // 2\n    left = nums[:half]\n    right = nums[half:]\n    \n    # Recursively break the arrays - O(log n)\n    left = sortArray(left)\n    right = sortArray(right)\n    \n    # O(n) sort\n    return sort(left, right)\n\n# Merge sort helper method\ndef sort(a, b):\n    out = []\n    while a and b:\n        if a[0] <= b[0]:\n            out.append(a.pop(0))\n        else:\n            out.append(b.pop(0))\n    if a:\n        out += a\n    else:\n        out += b\n    return out\n\n\nsmall_array = [1,5,6,23,432,54,1,1,1]\nlarge_array = list(np.random.rand(3000)) # 3000 random numbers\nsuper_large_array = list(np.random.rand(30000)) # 30000 random numbers",
      "metadata": {
        "trusted": true
      },
      "execution_count": 3,
      "outputs": []
    },
    {
      "cell_type": "code",
      "source": "%%time\nbrute_force_sort(small_array)",
      "metadata": {
        "trusted": true
      },
      "execution_count": 4,
      "outputs": [
        {
          "name": "stdout",
          "text": "CPU times: user 0 ns, sys: 0 ns, total: 0 ns\nWall time: 0 ns\n",
          "output_type": "stream"
        },
        {
          "execution_count": 4,
          "output_type": "execute_result",
          "data": {
            "text/plain": "[1, 1, 1, 1, 5, 6, 23, 54, 432]"
          },
          "metadata": {}
        }
      ]
    },
    {
      "cell_type": "code",
      "source": "%%time\nsortArray(small_array)",
      "metadata": {
        "trusted": true
      },
      "execution_count": 5,
      "outputs": [
        {
          "name": "stdout",
          "text": "CPU times: user 0 ns, sys: 0 ns, total: 0 ns\nWall time: 0 ns\n",
          "output_type": "stream"
        },
        {
          "execution_count": 5,
          "output_type": "execute_result",
          "data": {
            "text/plain": "[1, 1, 1, 1, 5, 6, 23, 54, 432]"
          },
          "metadata": {}
        }
      ]
    },
    {
      "cell_type": "code",
      "source": "%%time\nres = brute_force_sort(large_array)",
      "metadata": {
        "trusted": true
      },
      "execution_count": 6,
      "outputs": [
        {
          "name": "stdout",
          "text": "CPU times: user 0 ns, sys: 0 ns, total: 0 ns\nWall time: 472 ms\n",
          "output_type": "stream"
        }
      ]
    },
    {
      "cell_type": "code",
      "source": "%%time\nres = sortArray(large_array)",
      "metadata": {
        "trusted": true
      },
      "execution_count": 7,
      "outputs": [
        {
          "name": "stdout",
          "text": "CPU times: user 0 ns, sys: 0 ns, total: 0 ns\nWall time: 40 ms\n",
          "output_type": "stream"
        }
      ]
    },
    {
      "cell_type": "code",
      "source": "%%time\nres = brute_force_sort(super_large_array)",
      "metadata": {
        "trusted": true
      },
      "execution_count": 8,
      "outputs": [
        {
          "name": "stdout",
          "text": "CPU times: user 0 ns, sys: 0 ns, total: 0 ns\nWall time: 1min 9s\n",
          "output_type": "stream"
        }
      ]
    },
    {
      "cell_type": "code",
      "source": "%%time\nres = sortArray(super_large_array)",
      "metadata": {
        "trusted": true
      },
      "execution_count": 9,
      "outputs": [
        {
          "name": "stdout",
          "text": "CPU times: user 0 ns, sys: 0 ns, total: 0 ns\nWall time: 935 ms\n",
          "output_type": "stream"
        }
      ]
    },
    {
      "cell_type": "markdown",
      "source": "Looking at the runtime, what is the difference you observe?",
      "metadata": {}
    }
  ]
}